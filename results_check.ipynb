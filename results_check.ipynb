{
 "cells": [
  {
   "cell_type": "code",
   "execution_count": 1,
   "id": "096b26cf",
   "metadata": {},
   "outputs": [],
   "source": [
    "import matplotlib.pyplot as plt\n",
    "import numpy as np\n",
    "import json\n",
    "import os\n",
    "\n",
    "def load_json(file_path): # Load JSON Data\n",
    "    if os.path.exists(file_path):\n",
    "        with open(file_path, \"r\", encoding=\"utf-8\") as f:\n",
    "            try:\n",
    "                return json.load(f)\n",
    "            except json.JSONDecodeError:\n",
    "                print(\"JSON decode error — file is empty or malformed.\")\n",
    "                return {}\n",
    "    else:\n",
    "        return {}  # Return empty dict if file doesn't exist\n",
    "\n",
    "\n",
    "def update_json(data, key, value): # Modify/Add Data\n",
    "    data[key] = value\n",
    "    return data\n",
    "\n",
    "def save_json(file_path, data): # Save JSON Data\n",
    "    with open(file_path, \"w\", encoding=\"utf-8\") as f:\n",
    "        json.dump(data, f, indent=4)\n",
    "\n",
    "def phase_key_to_short(phase_key):\n",
    "    \"\"\"\n",
    "    Convert 'VO2 (space group 14)' to 'VO2_14'\n",
    "    \"\"\"\n",
    "    if \" (space group \" in phase_key and phase_key.endswith(\")\"):\n",
    "        name, sg = phase_key.split(\" (space group \")\n",
    "        sg = sg.rstrip(\")\")\n",
    "        return f\"{name} ({sg})\"\n",
    "    return phase_key\n",
    "\n",
    "# variable init \n",
    "json_file_path = \"Data/prompt1/interpretations_llm_v1_llama1.json\"\n",
    "json_file = load_json(json_file_path)"
   ]
  },
  {
   "cell_type": "code",
   "execution_count": null,
   "id": "d77cbff6",
   "metadata": {},
   "outputs": [
    {
     "name": "stdout",
     "output_type": "stream",
     "text": [
      "llama: ARR_39 I_1\n",
      "llama: TRI_62 I_1\n",
      "llama: TRI_62 I_2\n",
      "llama: TRI_62 I_3\n",
      "llama: TRI_62 I_4\n",
      "llama: TRI_62 I_5\n",
      "llama: TRI_87 I_1\n"
     ]
    }
   ],
   "source": [
    "# checks that all interpretations have the correct number of phases in the LLM response\n",
    "json_file_path = \"Data/prompt3/interpretations_llm_v2_llama1.json\"\n",
    "json_file = load_json(json_file_path)\n",
    "for sample in json_file:\n",
    "    for interpret in json_file[sample]:\n",
    "        if interpret not in [\"Synth_Conditions\"]:\n",
    "            if \"LLM_interpretation_likelihood_llama\" not in json_file[sample][interpret]:\n",
    "                print(f\"{sample} {interpret} No llama interpretation score\")\n",
    "                continue\n",
    "            gpt_score = json_file[sample][interpret][\"LLM_interpretation_likelihood\"]\n",
    "            llama_score = json_file[sample][interpret][\"LLM_interpretation_likelihood_llama\"]\n",
    "            phases_llama = list(json_file[sample][interpret][\"LLM_phases_likelihood_llama\"].keys())\n",
    "            phases_chat = list(json_file[sample][interpret][\"LLM_phases_likelihood\"].keys())\n",
    "            weightfractions = json_file[sample][interpret][\"weight_fraction\"]\n",
    "            if len(phases_llama) != len(weightfractions):\n",
    "                print(f\"llama: {sample} {interpret}\")\n",
    "            if len(phases_chat) != len(weightfractions):\n",
    "                print(f\"chat: {sample} {interpret}\")\n",
    "            \n",
    "            "
   ]
  },
  {
   "cell_type": "code",
   "execution_count": null,
   "id": "7257d59c",
   "metadata": {},
   "outputs": [],
   "source": []
  }
 ],
 "metadata": {
  "kernelspec": {
   "display_name": "Python 3",
   "language": "python",
   "name": "python3"
  },
  "language_info": {
   "codemirror_mode": {
    "name": "ipython",
    "version": 3
   },
   "file_extension": ".py",
   "mimetype": "text/x-python",
   "name": "python",
   "nbconvert_exporter": "python",
   "pygments_lexer": "ipython3",
   "version": "3.13.4"
  }
 },
 "nbformat": 4,
 "nbformat_minor": 5
}
