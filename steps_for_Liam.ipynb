{
 "cells": [
  {
   "cell_type": "markdown",
   "metadata": {},
   "source": [
    "# Steps to follow in order to get the selected interpration by using LLama:\n",
    "1. run all data train and test with the new prompt with llama\n",
    "2. interpretations = calculate_prior_probability(interpretations, w_llm=0.5, w_bscore =0.7)\n",
    "3. interpretations = calculate_fit_quality(interpretations,w_rwp=1, w_score=0.5)\n",
    "4. interpretations = calculate_posterior_probability_of_interpretation(interpretations)\n",
    "\n",
    "\n",
    "Make sure LLM_interpretation_likelihood is updated with the LLama's answer & you store the final prior and fit_quality and posterior with different name, do not overwrite the excisting one. Then we can compare the selected interpretation(higher prob) by using Chatgpt vs LLama vs \"lowset rwp valus\""
   ]
  },
  {
   "cell_type": "code",
   "execution_count": 17,
   "metadata": {},
   "outputs": [],
   "source": [
    "def calculate_prior_probability(interpretations, w_llm=1, w_bscore=1):\n",
    "    # Update each interpretation with a new field \"prior_probability\"\n",
    "    for interpretation_name, interpretation in interpretations.items():\n",
    "        if interpretation_name != \"Synth_Conditions\":\n",
    "            interpretation[\"prior_probability_llama\"] = (\n",
    "           (interpretation[\"LLM_interpretation_likelihood_llama\"]*w_llm + interpretation[\"balance_score\"]*w_bscore)/(w_llm + w_bscore))     \n",
    "        else: continue \n",
    "        \n",
    "    return interpretations"
   ]
  },
  {
   "cell_type": "code",
   "execution_count": 18,
   "metadata": {},
   "outputs": [],
   "source": [
    "def calculate_fit_quality(interpretations, w_rwp=1, w_score=1):\n",
    "    for key, interpretation in interpretations.items():\n",
    "        if key != \"Synth_Conditions\":\n",
    "            interpretation[\"fit_quality\"] = (interpretation[\"normalized_rwp\"]*w_rwp + interpretation[\"normalized_score\"]*w_score) / (w_rwp + w_score)\n",
    "    return interpretations"
   ]
  },
  {
   "cell_type": "code",
   "execution_count": 19,
   "metadata": {},
   "outputs": [],
   "source": [
    "def calculate_posterior_probability_of_interpretation(interpretations):\n",
    "    \"\"\"\n",
    "    Calculate the posterior probabilities P(In | S) for all interpretations\n",
    "    using balance_score and interpretation_importance.\n",
    "    \n",
    "    Parameters:\n",
    "        interpretations (dict or list): A dictionary of interpretations or \n",
    "                                        a list containing a single dictionary.\n",
    "\n",
    "    Returns:\n",
    "        dict: Updated interpretations with added \"posterior_probability\" field.\n",
    "    \"\"\"\n",
    "    # Extract dictionary if interpretations is a list\n",
    "    if isinstance(interpretations, list) and len(interpretations) == 1:\n",
    "        interpretations = interpretations[0]  # Extract the dictionary\n",
    "\n",
    "    if not isinstance(interpretations, dict):\n",
    "        raise ValueError(\"Interpretations should be a dictionary or a list containing a dictionary.\")\n",
    "\n",
    "     # Step 1: Compute unnormalized posterior = prior * fit_quality\n",
    "    joint_probabilities = {}\n",
    "    for name, interp in interpretations.items():\n",
    "        if name != \"Synth_Conditions\":\n",
    "            joint = interp[\"prior_probability_llama\"] * interp[\"fit_quality\"]\n",
    "            interpretations[name][\"unnormalized_posterior_llama\"] = joint\n",
    "            joint_probabilities[name] = joint\n",
    "\n",
    "    # Step 2: Normalize to get posterior_probability\n",
    "    total_joint = sum(joint_probabilities.values())\n",
    "    for name in interpretations:\n",
    "        if name != \"Synth_Conditions\":\n",
    "            if total_joint > 0:\n",
    "                interpretations[name][\"posterior_probability_llama\"] = (\n",
    "                interpretations[name][\"unnormalized_posterior_llama\"] / total_joint\n",
    "            )\n",
    "        else:\n",
    "            interpretations[name][\"posterior_probability_llama\"] = 0.0\n",
    "\n",
    "    return interpretations  "
   ]
  },
  {
   "cell_type": "code",
   "execution_count": 20,
   "metadata": {},
   "outputs": [],
   "source": [
    "import matplotlib.pyplot as plt\n",
    "import numpy as np\n",
    "import json\n",
    "import os\n",
    "\n",
    "def load_json(file_path): # Load JSON Data\n",
    "    if os.path.exists(file_path):\n",
    "        with open(file_path, \"r\", encoding=\"utf-8\") as f:\n",
    "            try:\n",
    "                return json.load(f)\n",
    "            except json.JSONDecodeError:\n",
    "                print(\"JSON decode error — file is empty or malformed.\")\n",
    "                return {}\n",
    "    else:\n",
    "        return {}  # Return empty dict if file doesn't exist\n",
    "\n",
    "\n",
    "def update_json(data, key, value): # Modify/Add Data\n",
    "    data[key] = value\n",
    "    return data\n",
    "\n",
    "def save_json(file_path, data): # Save JSON Data\n",
    "    with open(file_path, \"w\", encoding=\"utf-8\") as f:\n",
    "        json.dump(data, f, indent=4)"
   ]
  },
  {
   "cell_type": "code",
   "execution_count": null,
   "metadata": {},
   "outputs": [],
   "source": [
    "file_path = \"Data/prompt2/interpretations_llm_v5.1_llama10.json\"\n",
    "json_file = load_json(file_path)\n",
    "for sample in json_file:\n",
    "    interpretations = json_file[sample]\n",
    "    interpretations = calculate_prior_probability(interpretations, w_llm=0.5, w_bscore =0.7)\n",
    "    interpretations = calculate_fit_quality(interpretations,w_rwp=1, w_score=0.5)\n",
    "    interpretations = calculate_posterior_probability_of_interpretation(interpretations)\n",
    "    json_file[sample] = interpretations\n",
    "\n",
    "save_json(\"Data/prompt2/interpret_results1.json\",json_file)"
   ]
  },
  {
   "cell_type": "code",
   "execution_count": 26,
   "metadata": {},
   "outputs": [
    {
     "name": "stdout",
     "output_type": "stream",
     "text": [
      "PG_1048_1\n",
      "Chat GPT: I_3\n",
      "Llama: I_3\n",
      "ARR_39\n",
      "Chat GPT: I_1\n",
      "Llama: I_2\n",
      "TRI_62\n",
      "Chat GPT: I_7\n",
      "Llama: I_1\n",
      "TRI_84\n",
      "Chat GPT: I_2\n",
      "Llama: I_3\n",
      "TRI_80\n",
      "Chat GPT: I_1\n",
      "Llama: I_1\n",
      "PG_0849_1\n",
      "Chat GPT: I_2\n",
      "Llama: I_1\n",
      "TRI_81\n",
      "Chat GPT: I_2\n",
      "Llama: I_1\n",
      "TRI_90\n",
      "Chat GPT: I_1\n",
      "Llama: I_1\n",
      "TRI_106\n",
      "Chat GPT: I_2\n",
      "Llama: I_2\n",
      "TRI_114\n",
      "Chat GPT: I_1\n",
      "Llama: I_1\n",
      "TRI_183\n",
      "Chat GPT: I_4\n",
      "Llama: I_4\n",
      "TRI_41\n",
      "Chat GPT: I_2\n",
      "Llama: I_1\n",
      "TRI_87\n",
      "Chat GPT: I_5\n",
      "Llama: I_5\n",
      "ARR_46\n",
      "Chat GPT: I_3\n",
      "Llama: I_3\n",
      "TRI_105\n",
      "Chat GPT: I_1\n",
      "Llama: I_3\n"
     ]
    }
   ],
   "source": [
    "json_file = load_json(\"Data/prompt2/interpret_results1.json\")\n",
    "sample_choice = {}\n",
    "for sample in json_file:\n",
    "    sample_choice[sample] = {}\n",
    "    llama_probs = []\n",
    "    chat_probs = []\n",
    "    for interpretation in json_file[sample]:\n",
    "        if interpretation != \"Synth_Conditions\":\n",
    "            llama_probs.append((interpretation,json_file[sample][interpretation][\"posterior_probability_llama\"]))\n",
    "            chat_probs.append((interpretation,json_file[sample][interpretation][\"posterior_probability\"]))\n",
    "    llama_choice = max(llama_probs, key=lambda x: x[1])[0]\n",
    "    chat_choice = max(chat_probs, key=lambda x: x[1])[0]\n",
    "    sample_choice[sample][\"llama_choice\"] = llama_choice\n",
    "    sample_choice[sample][\"chat_choice\"] = chat_choice\n",
    "\n",
    "for sample, choices in sample_choice.items():\n",
    "    print(f\"{sample}\")\n",
    "    print(f\"Chat GPT: {choices[\"chat_choice\"]}\")\n",
    "    print(f\"Llama: {choices[\"llama_choice\"]}\")   "
   ]
  },
  {
   "cell_type": "code",
   "execution_count": 27,
   "metadata": {},
   "outputs": [
    {
     "data": {
      "image/png": "[encoded data removed]",
      "text/plain": [
       "<Figure size 600x600 with 1 Axes>"
      ]
     },
     "metadata": {},
     "output_type": "display_data"
    }
   ],
   "source": [
    "agree = 0 \n",
    "disagree = 0 \n",
    "for sample, choices in sample_choice.items():\n",
    "    if choices[\"chat_choice\"] == choices[\"llama_choice\"]:\n",
    "        agree += 1\n",
    "    else: disagree += 1\n",
    "\n",
    "values = [agree, disagree]  \n",
    "labels = ['Agree', 'Disagree']  # Replace with your labels\n",
    "colors = ['skyblue', 'lightcoral']  # Optional: customize colors\n",
    "\n",
    "# Create pie chart\n",
    "plt.figure(figsize=(6, 6))\n",
    "plt.pie(values, labels=labels, autopct='%1.1f%%', colors=colors, startangle=90)\n",
    "plt.title('Agreement in Interpretation Selection between Llama and Chat GPT')\n",
    "plt.axis('equal')  # Ensures pie is a circle\n",
    "plt.show()"
   ]
  },
  {
   "cell_type": "code",
   "execution_count": 28,
   "metadata": {},
   "outputs": [
    {
     "name": "stdout",
     "output_type": "stream",
     "text": [
      "PG_1048_1: Agree\n",
      "ARR_39: Disagree (I_1,I_2)\n",
      "TRI_62: Disagree (I_7,I_1)\n",
      "TRI_84: Disagree (I_2,I_3)\n",
      "TRI_80: Agree\n",
      "PG_0849_1: Disagree (I_2,I_1)\n",
      "TRI_81: Disagree (I_2,I_1)\n",
      "TRI_90: Agree\n",
      "TRI_106: Agree\n",
      "TRI_114: Agree\n",
      "TRI_183: Agree\n",
      "TRI_41: Disagree (I_2,I_1)\n",
      "TRI_87: Agree\n",
      "ARR_46: Agree\n",
      "TRI_105: Disagree (I_1,I_3)\n"
     ]
    }
   ],
   "source": [
    "for sample, choices in sample_choice.items():\n",
    "    if choices[\"chat_choice\"] == choices[\"llama_choice\"]:\n",
    "        print(f\"{sample}: Agree\")\n",
    "    else: print(f\"{sample}: Disagree ({choices[\"chat_choice\"]},{choices[\"llama_choice\"]})\")"
   ]
  },
  {
   "cell_type": "code",
   "execution_count": 25,
   "metadata": {},
   "outputs": [
    {
     "name": "stdout",
     "output_type": "stream",
     "text": [
      "Here is the evaluation of the given synthesis data:\n",
      "\n",
      "```python\n",
      "{\n",
      "\"I_1\": {\n",
      "    \"Likelihoods\": {\n",
      "    \"Ga33O50 (space group 12)\": 0.0,\n",
      "    },\n",
      "    \"Explanations\": {\n",
      "    \"Ga33O50 (space group 12)\": [\n",
      "        \"The phase Ga33O50 does not match the expected target composition GaSbO4.\",\n",
      "        \"The oxidation states and composition do not align with the precursors and synthesis conditions.\",\n",
      "        \"Ga33O50 is approximately equal to Ga2O3, which is a plausible precursor but not the target phase.\"\n",
      "    ],\n",
      "    \"Interpretation_Likelihood\": 0.0,\n",
      "    \"Interpretation_Explanation\": \"This interpretation is highly implausible due to the large discrepancy in composition and the absence of Sb-containing phases.\"\n",
      "},\n",
      "\n",
      "\"I_2\": {\n",
      "    \"Likelihoods\": {\n",
      "    \"Ga2O3 (space group 12)\": 0.6,\n",
      "    },\n",
      "    \"Explanations\": {\n",
      "    \"Ga2O3 (space group 12)\": [\n",
      "        \"Ga2O3 is a plausible precursor and may remain unreacted under the synthesis conditions.\",\n",
      "        \"The space group 12 for Ga2O3 is correct (monoclinic Ga2O3).\",\n",
      "        \"However, the absence of Sb-containing phases makes this interpretation incomplete.\"\n",
      "    ],\n",
      "    \"Interpretation_Likelihood\": 0.2,\n",
      "    \"Interpretation_Explanation\": \"This interpretation is partially plausible due to the presence of a likely unreacted precursor (Ga2O3), but it is incomplete and does not account for Sb incorporation into the target phase.\"\n",
      "}\n",
      "}\n",
      "```\n"
     ]
    }
   ],
   "source": [
    "failed_dicts = load_json(\"Data/prompt2/LLM_failedDictionary.json\")\n",
    "\n",
    "response = failed_dicts[\"Data/prompt2/interpretations_llm_v5.1_llama9.json\"][\"ARR_39\"]\n",
    "print(response)"
   ]
  },
  {
   "cell_type": "code",
   "execution_count": null,
   "metadata": {},
   "outputs": [],
   "source": []
  }
 ],
 "metadata": {
  "kernelspec": {
   "display_name": "Python 3",
   "language": "python",
   "name": "python3"
  },
  "language_info": {
   "codemirror_mode": {
    "name": "ipython",
    "version": 3
   },
   "file_extension": ".py",
   "mimetype": "text/x-python",
   "name": "python",
   "nbconvert_exporter": "python",
   "pygments_lexer": "ipython3",
   "version": "3.13.4"
  }
 },
 "nbformat": 4,
 "nbformat_minor": 2
}
