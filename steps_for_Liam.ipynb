{
 "cells": [
  {
   "cell_type": "markdown",
   "metadata": {},
   "source": [
    "# Steps to follow in order to get the selected interpration by using LLama:\n",
    "1. run all data train and test with the new prompt with llama\n",
    "2. interpretations = calculate_prior_probability(interpretations, w_llm=0.5, w_bscore =0.7)\n",
    "3. interpretations = calculate_fit_quality(interpretations,w_rwp=1, w_score=0.5)\n",
    "4. interpretations = calculate_posterior_probability_of_interpretation(interpretations)\n",
    "\n",
    "\n",
    "Make sure LLM_interpretation_likelihood is updated with the LLama's answer & you store the final prior and fit_quality and posterior with different name, do not overwrite the excisting one. Then we can compare the selected interpretation(higher prob) by using Chatgpt vs LLama vs \"lowset rwp valus\""
   ]
  },
  {
   "cell_type": "code",
   "execution_count": 7,
   "metadata": {},
   "outputs": [],
   "source": [
    "def calculate_prior_probability(interpretations, w_llm=1, w_bscore=1):\n",
    "    # Update each interpretation with a new field \"prior_probability\"\n",
    "    for interpretation_name, interpretation in interpretations.items():\n",
    "        interpretation[\"prior_probability_llama\"] = (\n",
    "           (interpretation[\"LLM_interpretation_likelihood_llama\"]*w_llm + interpretation[\"balance_score\"]*w_bscore)/(w_llm + w_bscore)\n",
    "        )\n",
    "    return interpretations"
   ]
  },
  {
   "cell_type": "code",
   "execution_count": 4,
   "metadata": {},
   "outputs": [],
   "source": [
    "def calculate_fit_quality(interpretations, w_rwp=1, w_score=1):\n",
    "    for key, interpretation in interpretations.items():\n",
    "        interpretation[\"fit_quality\"] = (interpretation[\"normalized_rwp\"]*w_rwp + interpretation[\"normalized_score\"]*w_score) / (w_rwp + w_score)\n",
    "    return interpretations"
   ]
  },
  {
   "cell_type": "code",
   "execution_count": 3,
   "metadata": {},
   "outputs": [],
   "source": [
    "def calculate_posterior_probability_of_interpretation(interpretations):\n",
    "    \"\"\"\n",
    "    Calculate the posterior probabilities P(In | S) for all interpretations\n",
    "    using balance_score and interpretation_importance.\n",
    "    \n",
    "    Parameters:\n",
    "        interpretations (dict or list): A dictionary of interpretations or \n",
    "                                        a list containing a single dictionary.\n",
    "\n",
    "    Returns:\n",
    "        dict: Updated interpretations with added \"posterior_probability\" field.\n",
    "    \"\"\"\n",
    "    # Extract dictionary if interpretations is a list\n",
    "    if isinstance(interpretations, list) and len(interpretations) == 1:\n",
    "        interpretations = interpretations[0]  # Extract the dictionary\n",
    "\n",
    "    if not isinstance(interpretations, dict):\n",
    "        raise ValueError(\"Interpretations should be a dictionary or a list containing a dictionary.\")\n",
    "\n",
    "     # Step 1: Compute unnormalized posterior = prior * fit_quality\n",
    "    joint_probabilities = {}\n",
    "    for name, interp in interpretations.items():\n",
    "        joint = interp[\"prior_probability_llama\"] * interp[\"fit_quality_llama\"]\n",
    "        interpretations[name][\"unnormalized_posterior_llama\"] = joint\n",
    "        joint_probabilities[name] = joint\n",
    "\n",
    "    # Step 2: Normalize to get posterior_probability\n",
    "    total_joint = sum(joint_probabilities.values())\n",
    "    for name in interpretations:\n",
    "        if total_joint > 0:\n",
    "            interpretations[name][\"posterior_probability_llama\"] = (\n",
    "                interpretations[name][\"unnormalized_posterior_llama\"] / total_joint\n",
    "            )\n",
    "        else:\n",
    "            interpretations[name][\"posterior_probability_llama\"] = 0.0\n",
    "\n",
    "    return interpretations  "
   ]
  },
  {
   "cell_type": "code",
   "execution_count": 1,
   "metadata": {},
   "outputs": [],
   "source": [
    "import matplotlib.pyplot as plt\n",
    "import numpy as np\n",
    "import json\n",
    "import os\n",
    "\n",
    "def load_json(file_path): # Load JSON Data\n",
    "    if os.path.exists(file_path):\n",
    "        with open(file_path, \"r\", encoding=\"utf-8\") as f:\n",
    "            try:\n",
    "                return json.load(f)\n",
    "            except json.JSONDecodeError:\n",
    "                print(\"JSON decode error — file is empty or malformed.\")\n",
    "                return {}\n",
    "    else:\n",
    "        return {}  # Return empty dict if file doesn't exist\n",
    "\n",
    "\n",
    "def update_json(data, key, value): # Modify/Add Data\n",
    "    data[key] = value\n",
    "    return data\n",
    "\n",
    "def save_json(file_path, data): # Save JSON Data\n",
    "    with open(file_path, \"w\", encoding=\"utf-8\") as f:\n",
    "        json.dump(data, f, indent=4)"
   ]
  },
  {
   "cell_type": "code",
   "execution_count": null,
   "metadata": {},
   "outputs": [
    {
     "ename": "KeyError",
     "evalue": "'LLM_interpretation_likelihood_llama'",
     "output_type": "error",
     "traceback": [
      "\u001b[31m---------------------------------------------------------------------------\u001b[39m",
      "\u001b[31mKeyError\u001b[39m                                  Traceback (most recent call last)",
      "\u001b[36mCell\u001b[39m\u001b[36m \u001b[39m\u001b[32mIn[10]\u001b[39m\u001b[32m, line 5\u001b[39m\n\u001b[32m      3\u001b[39m \u001b[38;5;28;01mfor\u001b[39;00m sample \u001b[38;5;129;01min\u001b[39;00m json_file:\n\u001b[32m      4\u001b[39m     interpretations = json_file[sample]\n\u001b[32m----> \u001b[39m\u001b[32m5\u001b[39m     interpretations = \u001b[43mcalculate_prior_probability\u001b[49m\u001b[43m(\u001b[49m\u001b[43minterpretations\u001b[49m\u001b[43m,\u001b[49m\u001b[43m \u001b[49m\u001b[43mw_llm\u001b[49m\u001b[43m=\u001b[49m\u001b[32;43m0.5\u001b[39;49m\u001b[43m,\u001b[49m\u001b[43m \u001b[49m\u001b[43mw_bscore\u001b[49m\u001b[43m \u001b[49m\u001b[43m=\u001b[49m\u001b[32;43m0.7\u001b[39;49m\u001b[43m)\u001b[49m\n\u001b[32m      6\u001b[39m     interpretations = calculate_fit_quality(interpretations,w_rwp=\u001b[32m1\u001b[39m, w_score=\u001b[32m0.5\u001b[39m)\n\u001b[32m      7\u001b[39m     interpretations = calculate_posterior_probability_of_interpretation(interpretations)\n",
      "\u001b[36mCell\u001b[39m\u001b[36m \u001b[39m\u001b[32mIn[7]\u001b[39m\u001b[32m, line 5\u001b[39m, in \u001b[36mcalculate_prior_probability\u001b[39m\u001b[34m(interpretations, w_llm, w_bscore)\u001b[39m\n\u001b[32m      1\u001b[39m \u001b[38;5;28;01mdef\u001b[39;00m\u001b[38;5;250m \u001b[39m\u001b[34mcalculate_prior_probability\u001b[39m(interpretations, w_llm=\u001b[32m1\u001b[39m, w_bscore=\u001b[32m1\u001b[39m):\n\u001b[32m      2\u001b[39m     \u001b[38;5;66;03m# Update each interpretation with a new field \"prior_probability\"\u001b[39;00m\n\u001b[32m      3\u001b[39m     \u001b[38;5;28;01mfor\u001b[39;00m interpretation_name, interpretation \u001b[38;5;129;01min\u001b[39;00m interpretations.items():\n\u001b[32m      4\u001b[39m         interpretation[\u001b[33m\"\u001b[39m\u001b[33mprior_probability_llama\u001b[39m\u001b[33m\"\u001b[39m] = (\n\u001b[32m----> \u001b[39m\u001b[32m5\u001b[39m            (\u001b[43minterpretation\u001b[49m\u001b[43m[\u001b[49m\u001b[33;43m\"\u001b[39;49m\u001b[33;43mLLM_interpretation_likelihood_llama\u001b[39;49m\u001b[33;43m\"\u001b[39;49m\u001b[43m]\u001b[49m*w_llm + interpretation[\u001b[33m\"\u001b[39m\u001b[33mbalance_score\u001b[39m\u001b[33m\"\u001b[39m]*w_bscore)/(w_llm + w_bscore)\n\u001b[32m      6\u001b[39m         )\n\u001b[32m      7\u001b[39m     \u001b[38;5;28;01mreturn\u001b[39;00m interpretations\n",
      "\u001b[31mKeyError\u001b[39m: 'LLM_interpretation_likelihood_llama'"
     ]
    }
   ],
   "source": [
    "file_path = \"Data/prompt2/interpretations_llm_v5.1_llama2.json\"\n",
    "json_file = load_json(file_path)\n",
    "for sample in json_file:\n",
    "    interpretations = json_file[sample]\n",
    "    interpretations = calculate_prior_probability(interpretations, w_llm=0.5, w_bscore =0.7)\n",
    "    interpretations = calculate_fit_quality(interpretations,w_rwp=1, w_score=0.5)\n",
    "    interpretations = calculate_posterior_probability_of_interpretation(interpretations)\n",
    "    json_file[sample] = interpretations\n",
    "\n",
    "save_json(\"Data/prompt2/interpret_results1.json\",json_file)"
   ]
  },
  {
   "cell_type": "code",
   "execution_count": null,
   "metadata": {},
   "outputs": [],
   "source": []
  }
 ],
 "metadata": {
  "kernelspec": {
   "display_name": "Python 3",
   "language": "python",
   "name": "python3"
  },
  "language_info": {
   "codemirror_mode": {
    "name": "ipython",
    "version": 3
   },
   "file_extension": ".py",
   "mimetype": "text/x-python",
   "name": "python",
   "nbconvert_exporter": "python",
   "pygments_lexer": "ipython3",
   "version": "3.13.4"
  }
 },
 "nbformat": 4,
 "nbformat_minor": 2
}
